{
 "cells": [
  {
   "cell_type": "code",
   "execution_count": 1,
   "metadata": {
    "collapsed": true
   },
   "outputs": [],
   "source": [
    "import pandas as pd \n",
    "import numpy as np \n",
    "import matplotlib.pyplot as plt \n",
    "import statsmodels.api as sm \n",
    "\n"
   ]
  },
  {
   "cell_type": "code",
   "execution_count": 2,
   "metadata": {
    "collapsed": true
   },
   "outputs": [],
   "source": [
    "df = pd.read_csv('tovar_moving.csv')"
   ]
  },
  {
   "cell_type": "code",
   "execution_count": 3,
   "metadata": {
    "collapsed": false
   },
   "outputs": [
    {
     "data": {
      "text/html": [
       "<div>\n",
       "<table border=\"1\" class=\"dataframe\">\n",
       "  <thead>\n",
       "    <tr style=\"text-align: right;\">\n",
       "      <th></th>\n",
       "      <th>date</th>\n",
       "      <th>qty</th>\n",
       "    </tr>\n",
       "  </thead>\n",
       "  <tbody>\n",
       "    <tr>\n",
       "      <th>0</th>\n",
       "      <td>01.09.2009</td>\n",
       "      <td>179667</td>\n",
       "    </tr>\n",
       "    <tr>\n",
       "      <th>1</th>\n",
       "      <td>02.09.2009</td>\n",
       "      <td>177670</td>\n",
       "    </tr>\n",
       "    <tr>\n",
       "      <th>2</th>\n",
       "      <td>03.09.2009</td>\n",
       "      <td>152112</td>\n",
       "    </tr>\n",
       "    <tr>\n",
       "      <th>3</th>\n",
       "      <td>04.09.2009</td>\n",
       "      <td>142938</td>\n",
       "    </tr>\n",
       "    <tr>\n",
       "      <th>4</th>\n",
       "      <td>05.09.2009</td>\n",
       "      <td>130741</td>\n",
       "    </tr>\n",
       "  </tbody>\n",
       "</table>\n",
       "</div>"
      ],
      "text/plain": [
       "         date     qty\n",
       "0  01.09.2009  179667\n",
       "1  02.09.2009  177670\n",
       "2  03.09.2009  152112\n",
       "3  04.09.2009  142938\n",
       "4  05.09.2009  130741"
      ]
     },
     "execution_count": 3,
     "metadata": {},
     "output_type": "execute_result"
    }
   ],
   "source": [
    "df.head()"
   ]
  },
  {
   "cell_type": "code",
   "execution_count": 4,
   "metadata": {
    "collapsed": false
   },
   "outputs": [],
   "source": [
    "df['new_date'] = pd.to_datetime(df['date'])"
   ]
  },
  {
   "cell_type": "code",
   "execution_count": 5,
   "metadata": {
    "collapsed": false
   },
   "outputs": [
    {
     "data": {
      "text/plain": [
       "0   2009-01-09\n",
       "1   2009-02-09\n",
       "2   2009-03-09\n",
       "3   2009-04-09\n",
       "4   2009-05-09\n",
       "Name: new_date, dtype: datetime64[ns]"
      ]
     },
     "execution_count": 5,
     "metadata": {},
     "output_type": "execute_result"
    }
   ],
   "source": [
    "df['new_date'].head()"
   ]
  },
  {
   "cell_type": "code",
   "execution_count": 6,
   "metadata": {
    "collapsed": false
   },
   "outputs": [
    {
     "data": {
      "text/html": [
       "<div>\n",
       "<table border=\"1\" class=\"dataframe\">\n",
       "  <thead>\n",
       "    <tr style=\"text-align: right;\">\n",
       "      <th></th>\n",
       "      <th>date</th>\n",
       "      <th>qty</th>\n",
       "      <th>new_date</th>\n",
       "    </tr>\n",
       "  </thead>\n",
       "  <tbody>\n",
       "    <tr>\n",
       "      <th>0</th>\n",
       "      <td>01.09.2009</td>\n",
       "      <td>179667</td>\n",
       "      <td>2009-01-09</td>\n",
       "    </tr>\n",
       "    <tr>\n",
       "      <th>1</th>\n",
       "      <td>02.09.2009</td>\n",
       "      <td>177670</td>\n",
       "      <td>2009-02-09</td>\n",
       "    </tr>\n",
       "    <tr>\n",
       "      <th>2</th>\n",
       "      <td>03.09.2009</td>\n",
       "      <td>152112</td>\n",
       "      <td>2009-03-09</td>\n",
       "    </tr>\n",
       "    <tr>\n",
       "      <th>3</th>\n",
       "      <td>04.09.2009</td>\n",
       "      <td>142938</td>\n",
       "      <td>2009-04-09</td>\n",
       "    </tr>\n",
       "    <tr>\n",
       "      <th>4</th>\n",
       "      <td>05.09.2009</td>\n",
       "      <td>130741</td>\n",
       "      <td>2009-05-09</td>\n",
       "    </tr>\n",
       "  </tbody>\n",
       "</table>\n",
       "</div>"
      ],
      "text/plain": [
       "         date     qty   new_date\n",
       "0  01.09.2009  179667 2009-01-09\n",
       "1  02.09.2009  177670 2009-02-09\n",
       "2  03.09.2009  152112 2009-03-09\n",
       "3  04.09.2009  142938 2009-04-09\n",
       "4  05.09.2009  130741 2009-05-09"
      ]
     },
     "execution_count": 6,
     "metadata": {},
     "output_type": "execute_result"
    }
   ],
   "source": [
    "df.head()"
   ]
  },
  {
   "cell_type": "code",
   "execution_count": 9,
   "metadata": {
    "collapsed": false
   },
   "outputs": [],
   "source": [
    "new_date_index = df.set_index('new_date')"
   ]
  },
  {
   "cell_type": "code",
   "execution_count": 10,
   "metadata": {
    "collapsed": false
   },
   "outputs": [
    {
     "data": {
      "text/html": [
       "<div>\n",
       "<table border=\"1\" class=\"dataframe\">\n",
       "  <thead>\n",
       "    <tr style=\"text-align: right;\">\n",
       "      <th></th>\n",
       "      <th>date</th>\n",
       "      <th>qty</th>\n",
       "      <th>new_date</th>\n",
       "    </tr>\n",
       "  </thead>\n",
       "  <tbody>\n",
       "    <tr>\n",
       "      <th>0</th>\n",
       "      <td>01.09.2009</td>\n",
       "      <td>179667</td>\n",
       "      <td>2009-01-09</td>\n",
       "    </tr>\n",
       "    <tr>\n",
       "      <th>1</th>\n",
       "      <td>02.09.2009</td>\n",
       "      <td>177670</td>\n",
       "      <td>2009-02-09</td>\n",
       "    </tr>\n",
       "    <tr>\n",
       "      <th>2</th>\n",
       "      <td>03.09.2009</td>\n",
       "      <td>152112</td>\n",
       "      <td>2009-03-09</td>\n",
       "    </tr>\n",
       "    <tr>\n",
       "      <th>3</th>\n",
       "      <td>04.09.2009</td>\n",
       "      <td>142938</td>\n",
       "      <td>2009-04-09</td>\n",
       "    </tr>\n",
       "    <tr>\n",
       "      <th>4</th>\n",
       "      <td>05.09.2009</td>\n",
       "      <td>130741</td>\n",
       "      <td>2009-05-09</td>\n",
       "    </tr>\n",
       "  </tbody>\n",
       "</table>\n",
       "</div>"
      ],
      "text/plain": [
       "         date     qty   new_date\n",
       "0  01.09.2009  179667 2009-01-09\n",
       "1  02.09.2009  177670 2009-02-09\n",
       "2  03.09.2009  152112 2009-03-09\n",
       "3  04.09.2009  142938 2009-04-09\n",
       "4  05.09.2009  130741 2009-05-09"
      ]
     },
     "execution_count": 10,
     "metadata": {},
     "output_type": "execute_result"
    }
   ],
   "source": [
    "df.head()"
   ]
  },
  {
   "cell_type": "code",
   "execution_count": 11,
   "metadata": {
    "collapsed": true
   },
   "outputs": [],
   "source": [
    "year_month_summary = new_date_index.groupby(lambda x: x.year * 100 + x.month).count()"
   ]
  },
  {
   "cell_type": "code",
   "execution_count": 14,
   "metadata": {
    "collapsed": false
   },
   "outputs": [
    {
     "name": "stdout",
     "output_type": "stream",
     "text": [
      "        date  qty\n",
      "200901     4    4\n",
      "200902     4    4\n",
      "200903     4    4\n",
      "200904     4    4\n",
      "200905     4    4\n",
      "200906     4    4\n",
      "200907     4    4\n",
      "200908     4    4\n",
      "200909    22   22\n",
      "200910    23   23\n",
      "200911    22   22\n",
      "200912    23   23\n",
      "201001    31   31\n",
      "201002    28   28\n",
      "201003    31   31\n",
      "201004    30   30\n",
      "201005    31   31\n",
      "201006    30   30\n",
      "201007    31   31\n",
      "201008    31   31\n",
      "201009    30   30\n",
      "201010    31   31\n",
      "201011    30   30\n",
      "201012    31   31\n",
      "201101    31   31\n",
      "201102    28   28\n",
      "201103    31   31\n",
      "201104    30   30\n",
      "201105    31   31\n",
      "201106    30   30\n",
      "...      ...  ...\n",
      "201111    30   30\n",
      "201112    31   31\n",
      "201201    31   31\n",
      "201202    29   29\n",
      "201203    31   31\n",
      "201204    30   30\n",
      "201205    31   31\n",
      "201206    30   30\n",
      "201207    31   31\n",
      "201208    31   31\n",
      "201209    30   30\n",
      "201210    31   31\n",
      "201211    30   30\n",
      "201212    31   31\n",
      "201301    31   31\n",
      "201302    28   28\n",
      "201303    31   31\n",
      "201304    30   30\n",
      "201305    31   31\n",
      "201306    30   30\n",
      "201307    31   31\n",
      "201308    31   31\n",
      "201309    30   30\n",
      "201310    31   31\n",
      "201311    30   30\n",
      "201312    31   31\n",
      "201402     1    1\n",
      "201403     1    1\n",
      "201404     1    1\n",
      "201405     1    1\n",
      "\n",
      "[64 rows x 2 columns]\n"
     ]
    }
   ],
   "source": [
    "print year_month_summary"
   ]
  },
  {
   "cell_type": "code",
   "execution_count": 15,
   "metadata": {
    "collapsed": false
   },
   "outputs": [
    {
     "data": {
      "text/html": [
       "<div>\n",
       "<table border=\"1\" class=\"dataframe\">\n",
       "  <thead>\n",
       "    <tr style=\"text-align: right;\">\n",
       "      <th></th>\n",
       "      <th>date</th>\n",
       "      <th>qty</th>\n",
       "    </tr>\n",
       "  </thead>\n",
       "  <tbody>\n",
       "    <tr>\n",
       "      <th>200901</th>\n",
       "      <td>4</td>\n",
       "      <td>4</td>\n",
       "    </tr>\n",
       "    <tr>\n",
       "      <th>200902</th>\n",
       "      <td>4</td>\n",
       "      <td>4</td>\n",
       "    </tr>\n",
       "    <tr>\n",
       "      <th>200903</th>\n",
       "      <td>4</td>\n",
       "      <td>4</td>\n",
       "    </tr>\n",
       "    <tr>\n",
       "      <th>200904</th>\n",
       "      <td>4</td>\n",
       "      <td>4</td>\n",
       "    </tr>\n",
       "    <tr>\n",
       "      <th>200905</th>\n",
       "      <td>4</td>\n",
       "      <td>4</td>\n",
       "    </tr>\n",
       "  </tbody>\n",
       "</table>\n",
       "</div>"
      ],
      "text/plain": [
       "        date  qty\n",
       "200901     4    4\n",
       "200902     4    4\n",
       "200903     4    4\n",
       "200904     4    4\n",
       "200905     4    4"
      ]
     },
     "execution_count": 15,
     "metadata": {},
     "output_type": "execute_result"
    }
   ],
   "source": [
    "year_month_summary.head()"
   ]
  },
  {
   "cell_type": "code",
   "execution_count": 16,
   "metadata": {
    "collapsed": true
   },
   "outputs": [],
   "source": [
    "qty_count_summary = year_month_summary['qty']"
   ]
  },
  {
   "cell_type": "code",
   "execution_count": 17,
   "metadata": {
    "collapsed": false
   },
   "outputs": [
    {
     "name": "stdout",
     "output_type": "stream",
     "text": [
      "200901     4\n",
      "200902     4\n",
      "200903     4\n",
      "200904     4\n",
      "200905     4\n",
      "200906     4\n",
      "200907     4\n",
      "200908     4\n",
      "200909    22\n",
      "200910    23\n",
      "200911    22\n",
      "200912    23\n",
      "201001    31\n",
      "201002    28\n",
      "201003    31\n",
      "201004    30\n",
      "201005    31\n",
      "201006    30\n",
      "201007    31\n",
      "201008    31\n",
      "201009    30\n",
      "201010    31\n",
      "201011    30\n",
      "201012    31\n",
      "201101    31\n",
      "201102    28\n",
      "201103    31\n",
      "201104    30\n",
      "201105    31\n",
      "201106    30\n",
      "          ..\n",
      "201111    30\n",
      "201112    31\n",
      "201201    31\n",
      "201202    29\n",
      "201203    31\n",
      "201204    30\n",
      "201205    31\n",
      "201206    30\n",
      "201207    31\n",
      "201208    31\n",
      "201209    30\n",
      "201210    31\n",
      "201211    30\n",
      "201212    31\n",
      "201301    31\n",
      "201302    28\n",
      "201303    31\n",
      "201304    30\n",
      "201305    31\n",
      "201306    30\n",
      "201307    31\n",
      "201308    31\n",
      "201309    30\n",
      "201310    31\n",
      "201311    30\n",
      "201312    31\n",
      "201402     1\n",
      "201403     1\n",
      "201404     1\n",
      "201405     1\n",
      "Name: qty, dtype: int64\n"
     ]
    }
   ],
   "source": [
    "print qty_count_summary"
   ]
  },
  {
   "cell_type": "code",
   "execution_count": 19,
   "metadata": {
    "collapsed": false
   },
   "outputs": [],
   "source": [
    "sm.graphics.tsa.plot_acf(qty_count_summary)\n",
    "plt.show()"
   ]
  },
  {
   "cell_type": "code",
   "execution_count": 20,
   "metadata": {
    "collapsed": true
   },
   "outputs": [],
   "source": [
    "sm.graphics.tsa.plot_pacf(qty_count_summary)\n",
    "plt.show()"
   ]
  },
  {
   "cell_type": "code",
   "execution_count": null,
   "metadata": {
    "collapsed": true
   },
   "outputs": [],
   "source": []
  }
 ],
 "metadata": {
  "kernelspec": {
   "display_name": "Python 2",
   "language": "python",
   "name": "python2"
  },
  "language_info": {
   "codemirror_mode": {
    "name": "ipython",
    "version": 2
   },
   "file_extension": ".py",
   "mimetype": "text/x-python",
   "name": "python",
   "nbconvert_exporter": "python",
   "pygments_lexer": "ipython2",
   "version": "2.7.10"
  }
 },
 "nbformat": 4,
 "nbformat_minor": 0
}
